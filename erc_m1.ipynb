{
 "cells": [
  {
   "cell_type": "code",
   "execution_count": 1,
   "metadata": {},
   "outputs": [
    {
     "name": "stderr",
     "output_type": "stream",
     "text": [
      "/home/nsl/gpu_env_pip/lib64/python3.10/site-packages/tqdm/auto.py:21: TqdmWarning: IProgress not found. Please update jupyter and ipywidgets. See https://ipywidgets.readthedocs.io/en/stable/user_install.html\n",
      "  from .autonotebook import tqdm as notebook_tqdm\n"
     ]
    }
   ],
   "source": [
    "import pandas as pd\n",
    "import numpy as np\n",
    "import torch\n",
    "from torch.utils.data import DataLoader, TensorDataset\n",
    "from transformers import BertTokenizer, BertConfig, BertForSequenceClassification\n",
    "from sklearn.metrics import accuracy_score, f1_score, precision_score, recall_score, classification_report\n",
    "from sklearn.model_selection import train_test_split\n",
    "from sklearn.preprocessing import LabelEncoder\n",
    "import wandb\n",
    "import pickle\n",
    "from tqdm import tqdm\n",
    "import nlp_utils as nu\n",
    "import matplotlib.pyplot as plt\n",
    "import string"
   ]
  },
  {
   "cell_type": "code",
   "execution_count": 2,
   "metadata": {},
   "outputs": [
    {
     "name": "stdout",
     "output_type": "stream",
     "text": [
      "PyTorch version: 2.2.2+cu121\n"
     ]
    }
   ],
   "source": [
    "print(\"PyTorch version:\", torch.__version__)"
   ]
  },
  {
   "cell_type": "code",
   "execution_count": 3,
   "metadata": {},
   "outputs": [
    {
     "data": {
      "text/plain": [
       "device(type='cuda')"
      ]
     },
     "execution_count": 3,
     "metadata": {},
     "output_type": "execute_result"
    }
   ],
   "source": [
    "device = torch.device('cuda' if torch.cuda.is_available() else 'cpu')\n",
    "device"
   ]
  },
  {
   "cell_type": "code",
   "execution_count": 4,
   "metadata": {},
   "outputs": [
    {
     "name": "stderr",
     "output_type": "stream",
     "text": [
      "Failed to detect the name of this notebook, you can set it manually with the WANDB_NOTEBOOK_NAME environment variable to enable code saving.\n",
      "\u001b[34m\u001b[1mwandb\u001b[0m: Currently logged in as: \u001b[33msachinsharma\u001b[0m (\u001b[33miiitd-sachin\u001b[0m). Use \u001b[1m`wandb login --relogin`\u001b[0m to force relogin\n"
     ]
    },
    {
     "data": {
      "text/plain": [
       "True"
      ]
     },
     "execution_count": 4,
     "metadata": {},
     "output_type": "execute_result"
    }
   ],
   "source": [
    "wandb.login()"
   ]
  },
  {
   "cell_type": "code",
   "execution_count": 5,
   "metadata": {},
   "outputs": [],
   "source": [
    "train_data_path = '../data/Subtask_1_train.json'\n",
    "test_data_path = '../data/Subtask_1_test.json'\n",
    "pickle_save_path = '../data/pickle/'\n",
    "model_save_path = '../models/'"
   ]
  },
  {
   "cell_type": "code",
   "execution_count": 6,
   "metadata": {},
   "outputs": [],
   "source": [
    "dataset = pd.read_json(train_data_path)\n",
    "# train_df"
   ]
  },
  {
   "cell_type": "code",
   "execution_count": 7,
   "metadata": {},
   "outputs": [
    {
     "data": {
      "text/plain": [
       "[{'utterance_ID': 1,\n",
       "  'text': 'Alright , so I am back in high school , I am standing in the middle of the cafeteria , and I realize I am totally naked .',\n",
       "  'speaker': 'Chandler',\n",
       "  'emotion': 'neutral'},\n",
       " {'utterance_ID': 2,\n",
       "  'text': 'Oh , yeah . Had that dream .',\n",
       "  'speaker': 'All',\n",
       "  'emotion': 'neutral'},\n",
       " {'utterance_ID': 3,\n",
       "  'text': 'Then I look down , and I realize there is a phone ... there .',\n",
       "  'speaker': 'Chandler',\n",
       "  'emotion': 'surprise'},\n",
       " {'utterance_ID': 4,\n",
       "  'text': 'Instead of ... ?',\n",
       "  'speaker': 'Joey',\n",
       "  'emotion': 'surprise'},\n",
       " {'utterance_ID': 5,\n",
       "  'text': 'That is right .',\n",
       "  'speaker': 'Chandler',\n",
       "  'emotion': 'anger'},\n",
       " {'utterance_ID': 6,\n",
       "  'text': 'Never had that dream .',\n",
       "  'speaker': 'Joey',\n",
       "  'emotion': 'neutral'},\n",
       " {'utterance_ID': 7,\n",
       "  'text': 'No .',\n",
       "  'speaker': 'Phoebe',\n",
       "  'emotion': 'neutral'},\n",
       " {'utterance_ID': 8,\n",
       "  'text': 'All of a sudden , the phone starts to ring .',\n",
       "  'speaker': 'Chandler',\n",
       "  'emotion': 'neutral'}]"
      ]
     },
     "execution_count": 7,
     "metadata": {},
     "output_type": "execute_result"
    }
   ],
   "source": [
    "conversations_df = pd.read_json(train_data_path)['conversation']\n",
    "conversations_df[0]"
   ]
  },
  {
   "cell_type": "code",
   "execution_count": 8,
   "metadata": {},
   "outputs": [
    {
     "data": {
      "text/plain": [
       "{'anger', 'disgust', 'fear', 'joy', 'neutral', 'sadness', 'surprise'}"
      ]
     },
     "execution_count": 8,
     "metadata": {},
     "output_type": "execute_result"
    }
   ],
   "source": [
    "unique_labels = set()\n",
    "unique_speakers = set()\n",
    "\n",
    "for conv in conversations_df:\n",
    "    for utterance in conv:\n",
    "        unique_labels.add(utterance['emotion'])\n",
    "        unique_speakers.add(utterance['speaker'])\n",
    "unique_labels"
   ]
  },
  {
   "cell_type": "code",
   "execution_count": 51,
   "metadata": {},
   "outputs": [],
   "source": [
    "label_encoder = LabelEncoder()\n",
    "label_encoder = label_encoder.fit(list(unique_labels))\n",
    "\n",
    "label_dict_save_path = pickle_save_path + \"label_dict.pkl\"\n",
    "labels_dict = {x:label_encoder.transform([x])[0] for x in label_encoder.classes_}\n",
    "pickle.dump(labels_dict, open(label_dict_save_path, \"wb\"))"
   ]
  },
  {
   "cell_type": "code",
   "execution_count": 10,
   "metadata": {},
   "outputs": [],
   "source": [
    "train_conv_df, dev_conv_df = train_test_split(conversations_df, test_size=0.2, random_state=42)"
   ]
  },
  {
   "cell_type": "code",
   "execution_count": 56,
   "metadata": {},
   "outputs": [],
   "source": [
    "train_conversations = []\n",
    "dev_conversations = []\n",
    "\n",
    "train_utterances = []\n",
    "train_emotions = []\n",
    "train_speakers = []\n",
    "\n",
    "dev_utterances = []\n",
    "dev_emotions = []\n",
    "dev_speakers = []\n",
    "\n",
    "for conv in train_conv_df:\n",
    "    dialog = []\n",
    "    dialog_emotions = []\n",
    "    for sentence in conv:\n",
    "        speaker = sentence['speaker']\n",
    "        utterance = f'{speaker}: ' + nu.preprocess_text(sentence['text'])\n",
    "        emotion = sentence['emotion']\n",
    "        train_utterances.append(utterance)\n",
    "        dialog.append(utterance)\n",
    "        train_speakers.append(speaker)\n",
    "        train_emotions.append(sentence['emotion'])\n",
    "        dialog_emotions.append(sentence['emotion'])\n",
    "    train_conversations.append(dialog)\n",
    "\n",
    "for conv in dev_conv_df:\n",
    "    dialog = []\n",
    "    dialog_emotions = []\n",
    "    for sentence in conv:\n",
    "        speaker = sentence['speaker']\n",
    "        utterance = f'{speaker}: ' + nu.preprocess_text(sentence['text'])\n",
    "        emotion = sentence['emotion']\n",
    "        dev_utterances.append(utterance)\n",
    "        dialog.append(utterance)\n",
    "        dev_speakers.append(speaker)\n",
    "        dev_emotions.append(sentence['emotion'])\n",
    "        dialog_emotions.append(sentence['emotion'])\n",
    "    dev_conversations.append(dialog)\n",
    "\n",
    "train_emotions = label_encoder.transform(train_emotions)\n",
    "dev_emotions = label_encoder.transform(dev_emotions)"
   ]
  },
  {
   "cell_type": "code",
   "execution_count": 13,
   "metadata": {},
   "outputs": [],
   "source": [
    "start_token = '<CLS>'\n",
    "sep_token = '<SEP>'"
   ]
  },
  {
   "cell_type": "code",
   "execution_count": 14,
   "metadata": {},
   "outputs": [],
   "source": [
    "train_contexts = []\n",
    "\n",
    "for conv in train_conversations:\n",
    "    context = [start_token]\n",
    "    dialog_context = []\n",
    "    for utterance in conv:\n",
    "        dialog_context.append(np.array(context))\n",
    "        context.append(utterance)\n",
    "    train_contexts.append(np.array(dialog_context, dtype='object'))\n",
    "\n",
    "train_contexts = np.array([np.array([(' ' + sep_token + ' ').join(x) for x in dialog]) for dialog in train_contexts], dtype='object')\n",
    "\n",
    "dev_contexts = []\n",
    "\n",
    "for conv in dev_conversations:\n",
    "    context = [start_token]\n",
    "    dialog_context = []\n",
    "    for utterance in conv:\n",
    "        dialog_context.append(np.array(context))\n",
    "        context.append(utterance)\n",
    "    dev_contexts.append(np.array(dialog_context, dtype='object'))\n",
    "\n",
    "dev_contexts = np.array([np.array([(' ' + sep_token + ' ').join(x) for x in dialog]) for dialog in dev_contexts], dtype='object')"
   ]
  },
  {
   "cell_type": "code",
   "execution_count": 16,
   "metadata": {},
   "outputs": [],
   "source": [
    "def encode_plus_contexts(conv_contexts, conv, tokenizer, max_length=512):\n",
    "    conv_input_ids = []\n",
    "    conv_attention_masks = []\n",
    "\n",
    "    for conv_id in tqdm(range(len(conv_contexts)), total=len(conv_contexts), desc=\"Encoding utterances\"):\n",
    "        input_ids = []\n",
    "        attention_masks = []\n",
    "        for i in range(len(conv_contexts[conv_id])):\n",
    "            utterance = conv[conv_id][i]\n",
    "            context = conv_contexts[conv_id][i]\n",
    "            encoded = tokenizer.encode_plus(context, utterance,\n",
    "                                   add_special_tokens=True,\n",
    "                                   max_length=max_length,\n",
    "                                   padding='max_length',\n",
    "                                   truncation='only_first',\n",
    "                                   return_attention_mask=True,\n",
    "                                   return_tensors='pt')\n",
    "            input_ids.append(encoded['input_ids'])\n",
    "            attention_masks.append(encoded['attention_mask'])\n",
    "\n",
    "        input_ids = torch.cat(input_ids, dim=0)\n",
    "        attention_masks = torch.cat(attention_masks, dim=0)\n",
    "        conv_input_ids.append(input_ids)\n",
    "        conv_attention_masks.append(attention_masks)\n",
    "\n",
    "    return {'input_ids': np.array(conv_input_ids, dtype='object'), 'attention_mask': np.array(conv_attention_masks, dtype='object')}"
   ]
  },
  {
   "cell_type": "code",
   "execution_count": 17,
   "metadata": {},
   "outputs": [],
   "source": [
    "tokenizer = BertTokenizer.from_pretrained('bert-base-uncased')"
   ]
  },
  {
   "cell_type": "code",
   "execution_count": 20,
   "metadata": {},
   "outputs": [
    {
     "name": "stderr",
     "output_type": "stream",
     "text": [
      "Encoding utterances: 100%|██████████| 1099/1099 [00:21<00:00, 50.90it/s]\n",
      "Encoding utterances: 100%|██████████| 275/275 [00:05<00:00, 52.89it/s]\n"
     ]
    }
   ],
   "source": [
    "train_contexts_encodings = encode_plus_contexts(train_contexts, train_conversations, tokenizer)\n",
    "dev_contexts_encodings = encode_plus_contexts(dev_contexts, dev_conversations, tokenizer)"
   ]
  },
  {
   "cell_type": "code",
   "execution_count": 21,
   "metadata": {},
   "outputs": [
    {
     "data": {
      "text/plain": [
       "torch.Size([10965, 512])"
      ]
     },
     "execution_count": 21,
     "metadata": {},
     "output_type": "execute_result"
    }
   ],
   "source": [
    "X_train_context_input_ids = torch.cat(train_contexts_encodings['input_ids'].tolist(), dim=0).to(device)\n",
    "X_train_context_attention_masks = torch.cat(train_contexts_encodings['attention_mask'].tolist(), dim=0).to(device)\n",
    "\n",
    "X_dev_context_input_ids = torch.cat(dev_contexts_encodings['input_ids'].tolist(), dim=0).to(device)\n",
    "X_dev_context_attention_masks = torch.cat(dev_contexts_encodings['attention_mask'].tolist(), dim=0).to(device)\n",
    "\n",
    "X_train_context_input_ids.shape\n",
    "# X_dev_context_input_ids.shape"
   ]
  },
  {
   "cell_type": "code",
   "execution_count": 22,
   "metadata": {},
   "outputs": [],
   "source": [
    "train_labels = torch.tensor(train_emotions, dtype=torch.long).to(device)\n",
    "dev_labels = torch.tensor(dev_emotions, dtype=torch.long).to(device)"
   ]
  },
  {
   "cell_type": "code",
   "execution_count": 23,
   "metadata": {},
   "outputs": [],
   "source": [
    "torch.save(X_train_context_input_ids, pickle_save_path + 'X_train_context_input_ids.pt')\n",
    "torch.save(X_train_context_attention_masks, pickle_save_path + 'X_train_context_attention_masks.pt')\n",
    "torch.save(train_labels, pickle_save_path + 'train_labels_1d.pt')\n",
    "\n",
    "torch.save(X_dev_context_input_ids, pickle_save_path + 'X_dev_context_input_ids.pt')\n",
    "torch.save(X_dev_context_attention_masks, pickle_save_path + 'X_dev_context_attention_masks.pt')\n",
    "torch.save(dev_labels, pickle_save_path + 'dev_labels_1d.pt')"
   ]
  },
  {
   "cell_type": "code",
   "execution_count": 24,
   "metadata": {},
   "outputs": [],
   "source": [
    "X_train_context_input_ids = torch.load(pickle_save_path + 'X_train_context_input_ids.pt')\n",
    "X_train_context_attention_masks = torch.load(pickle_save_path + 'X_train_context_attention_masks.pt')\n",
    "train_labels = torch.load(pickle_save_path + 'train_labels_1d.pt')\n",
    "\n",
    "X_dev_context_input_ids = torch.load(pickle_save_path + 'X_dev_context_input_ids.pt')\n",
    "X_dev_context_attention_masks = torch.load(pickle_save_path + 'X_dev_context_attention_masks.pt')\n",
    "dev_labels = torch.load(pickle_save_path + 'dev_labels_1d.pt')"
   ]
  },
  {
   "cell_type": "code",
   "execution_count": 25,
   "metadata": {},
   "outputs": [
    {
     "name": "stderr",
     "output_type": "stream",
     "text": [
      "Some weights of BertForSequenceClassification were not initialized from the model checkpoint at bert-base-uncased and are newly initialized: ['classifier.bias', 'classifier.weight']\n",
      "You should probably TRAIN this model on a down-stream task to be able to use it for predictions and inference.\n"
     ]
    },
    {
     "data": {
      "text/plain": [
       "BertForSequenceClassification(\n",
       "  (bert): BertModel(\n",
       "    (embeddings): BertEmbeddings(\n",
       "      (word_embeddings): Embedding(30522, 768, padding_idx=0)\n",
       "      (position_embeddings): Embedding(512, 768)\n",
       "      (token_type_embeddings): Embedding(2, 768)\n",
       "      (LayerNorm): LayerNorm((768,), eps=1e-12, elementwise_affine=True)\n",
       "      (dropout): Dropout(p=0.1, inplace=False)\n",
       "    )\n",
       "    (encoder): BertEncoder(\n",
       "      (layer): ModuleList(\n",
       "        (0-11): 12 x BertLayer(\n",
       "          (attention): BertAttention(\n",
       "            (self): BertSelfAttention(\n",
       "              (query): Linear(in_features=768, out_features=768, bias=True)\n",
       "              (key): Linear(in_features=768, out_features=768, bias=True)\n",
       "              (value): Linear(in_features=768, out_features=768, bias=True)\n",
       "              (dropout): Dropout(p=0.1, inplace=False)\n",
       "            )\n",
       "            (output): BertSelfOutput(\n",
       "              (dense): Linear(in_features=768, out_features=768, bias=True)\n",
       "              (LayerNorm): LayerNorm((768,), eps=1e-12, elementwise_affine=True)\n",
       "              (dropout): Dropout(p=0.1, inplace=False)\n",
       "            )\n",
       "          )\n",
       "          (intermediate): BertIntermediate(\n",
       "            (dense): Linear(in_features=768, out_features=3072, bias=True)\n",
       "            (intermediate_act_fn): GELUActivation()\n",
       "          )\n",
       "          (output): BertOutput(\n",
       "            (dense): Linear(in_features=3072, out_features=768, bias=True)\n",
       "            (LayerNorm): LayerNorm((768,), eps=1e-12, elementwise_affine=True)\n",
       "            (dropout): Dropout(p=0.1, inplace=False)\n",
       "          )\n",
       "        )\n",
       "      )\n",
       "    )\n",
       "    (pooler): BertPooler(\n",
       "      (dense): Linear(in_features=768, out_features=768, bias=True)\n",
       "      (activation): Tanh()\n",
       "    )\n",
       "  )\n",
       "  (dropout): Dropout(p=0.1, inplace=False)\n",
       "  (classifier): Linear(in_features=768, out_features=7, bias=True)\n",
       ")"
      ]
     },
     "execution_count": 25,
     "metadata": {},
     "output_type": "execute_result"
    }
   ],
   "source": [
    "config = BertConfig.from_pretrained('bert-base-uncased', num_labels=len(label_encoder.classes_))\n",
    "model = BertForSequenceClassification.from_pretrained('bert-base-uncased', config=config)\n",
    "model.to(device)"
   ]
  },
  {
   "cell_type": "code",
   "execution_count": 26,
   "metadata": {},
   "outputs": [],
   "source": [
    "optimizer = torch.optim.Adam(model.parameters(), lr=1e-5)\n",
    "loss_fn = torch.nn.CrossEntropyLoss()"
   ]
  },
  {
   "cell_type": "code",
   "execution_count": 27,
   "metadata": {},
   "outputs": [
    {
     "data": {
      "text/plain": [
       "torch.Size([11, 512])"
      ]
     },
     "execution_count": 27,
     "metadata": {},
     "output_type": "execute_result"
    }
   ],
   "source": [
    "train_contexts_encodings['input_ids'][0].shape"
   ]
  },
  {
   "cell_type": "code",
   "execution_count": 28,
   "metadata": {},
   "outputs": [],
   "source": [
    "train_dataset = TensorDataset(X_train_context_input_ids, X_train_context_attention_masks, train_labels)\n",
    "train_loader = DataLoader(train_dataset, batch_size=8, shuffle=True)\n",
    "\n",
    "dev_dataset = TensorDataset(X_dev_context_input_ids, X_dev_context_attention_masks, dev_labels)\n",
    "dev_loader = DataLoader(dev_dataset, batch_size=8, shuffle=True)"
   ]
  },
  {
   "cell_type": "code",
   "execution_count": 29,
   "metadata": {},
   "outputs": [],
   "source": [
    "def train_step(model, input_ids, attention_mask, labels):\n",
    "    model.train()\n",
    "    optimizer.zero_grad()\n",
    "    predictions = model(input_ids, attention_mask=attention_mask, labels=labels)\n",
    "    loss = predictions[0]\n",
    "    loss.backward()\n",
    "    optimizer.step()\n",
    "    return loss.item()"
   ]
  },
  {
   "cell_type": "code",
   "execution_count": 30,
   "metadata": {},
   "outputs": [
    {
     "data": {
      "text/html": [
       "Tracking run with wandb version 0.16.6"
      ],
      "text/plain": [
       "<IPython.core.display.HTML object>"
      ]
     },
     "metadata": {},
     "output_type": "display_data"
    },
    {
     "data": {
      "text/html": [
       "Run data is saved locally in <code>/home/nsl/nlp/project/src/wandb/run-20240423_003838-uvlm57ev</code>"
      ],
      "text/plain": [
       "<IPython.core.display.HTML object>"
      ]
     },
     "metadata": {},
     "output_type": "display_data"
    },
    {
     "data": {
      "text/html": [
       "Syncing run <strong><a href='https://wandb.ai/iiitd-sachin/NLP_Project/runs/uvlm57ev' target=\"_blank\">Bert-erc-context_cat-run2</a></strong> to <a href='https://wandb.ai/iiitd-sachin/NLP_Project' target=\"_blank\">Weights & Biases</a> (<a href='https://wandb.me/run' target=\"_blank\">docs</a>)<br/>"
      ],
      "text/plain": [
       "<IPython.core.display.HTML object>"
      ]
     },
     "metadata": {},
     "output_type": "display_data"
    },
    {
     "data": {
      "text/html": [
       " View project at <a href='https://wandb.ai/iiitd-sachin/NLP_Project' target=\"_blank\">https://wandb.ai/iiitd-sachin/NLP_Project</a>"
      ],
      "text/plain": [
       "<IPython.core.display.HTML object>"
      ]
     },
     "metadata": {},
     "output_type": "display_data"
    },
    {
     "data": {
      "text/html": [
       " View run at <a href='https://wandb.ai/iiitd-sachin/NLP_Project/runs/uvlm57ev' target=\"_blank\">https://wandb.ai/iiitd-sachin/NLP_Project/runs/uvlm57ev</a>"
      ],
      "text/plain": [
       "<IPython.core.display.HTML object>"
      ]
     },
     "metadata": {},
     "output_type": "display_data"
    },
    {
     "name": "stdout",
     "output_type": "stream",
     "text": [
      "Epoch 1\n"
     ]
    },
    {
     "name": "stderr",
     "output_type": "stream",
     "text": [
      "Epoch 1: 100%|██████████| 1371/1371 [04:34<00:00,  4.99it/s]\n"
     ]
    },
    {
     "name": "stdout",
     "output_type": "stream",
     "text": [
      "Training Loss: 1.3841158678329921, Validation Loss: 1.2617146146584706\n",
      "Epoch 2\n"
     ]
    },
    {
     "name": "stderr",
     "output_type": "stream",
     "text": [
      "Epoch 2: 100%|██████████| 1371/1371 [04:37<00:00,  4.95it/s]\n"
     ]
    },
    {
     "name": "stdout",
     "output_type": "stream",
     "text": [
      "Training Loss: 1.066315907183396, Validation Loss: 1.2427417130534908\n",
      "Epoch 3\n"
     ]
    },
    {
     "name": "stderr",
     "output_type": "stream",
     "text": [
      "Epoch 3: 100%|██████████| 1371/1371 [04:36<00:00,  4.95it/s]\n"
     ]
    },
    {
     "name": "stdout",
     "output_type": "stream",
     "text": [
      "Training Loss: 0.8103833657320532, Validation Loss: 1.3752604760678417\n"
     ]
    }
   ],
   "source": [
    "wandb.init(\n",
    "    # set the wandb project where this run will be logged\n",
    "    project=\"NLP_Project\",\n",
    "    group='ERC',\n",
    "    name='Bert-erc-context_cat-m2-run3',\n",
    "\n",
    "    config={\n",
    "        \"architecture\": \"bert\",\n",
    "        'context': 'concatenated',\n",
    "        'input shape': 'flattened',\n",
    "        \"epochs\": 3,\n",
    "        \"learning_rate\": 1e-5\n",
    "    }\n",
    ")\n",
    "config = wandb.config\n",
    "\n",
    "num_epochs = config.epochs   # Number of epochs, adjust as needed\n",
    "train_losses = []\n",
    "dev_losses = []\n",
    "\n",
    "\n",
    "for epoch in range(num_epochs):\n",
    "    print(f'Epoch {epoch+1}')\n",
    "    epoch_train_loss = 0\n",
    "\n",
    "    for batch in tqdm(train_loader, desc=f\"Epoch {epoch+1}\"):\n",
    "        input_ids, attention_mask, labels = batch\n",
    "        input_ids.to(device)\n",
    "        attention_mask.to(device)\n",
    "        labels.to(device)\n",
    "        loss = train_step(model, input_ids, attention_mask, labels)\n",
    "        epoch_train_loss += loss\n",
    "    epoch_train_loss /= len(train_loader)\n",
    "    train_losses.append(epoch_train_loss)\n",
    "    \n",
    "    # Validation\n",
    "    model.eval()\n",
    "    total_dev_loss = 0\n",
    "    with torch.no_grad():\n",
    "        for batch in dev_loader:\n",
    "            input_ids, attention_mask, labels = batch\n",
    "            input_ids.to(device)\n",
    "            attention_mask.to(device)\n",
    "            labels.to(device)\n",
    "            predictions = model(input_ids, attention_mask=attention_mask, labels=labels)\n",
    "            dev_loss = predictions[0]\n",
    "            total_dev_loss += dev_loss.item()\n",
    "    avg_dev_loss = total_dev_loss / len(dev_loader)\n",
    "    dev_losses.append(avg_dev_loss)\n",
    "    \n",
    "    wandb.log({'train_loss': epoch_train_loss, 'val_loss': avg_dev_loss})\n",
    "    print(f'Training Loss: {epoch_train_loss}, Validation Loss: {avg_dev_loss}')"
   ]
  },
  {
   "cell_type": "code",
   "execution_count": 40,
   "metadata": {},
   "outputs": [],
   "source": [
    "model.save_pretrained(model_save_path + 'erc-bert-m1')\n",
    "# tokenizer.save_pretrained(model_save_path)"
   ]
  },
  {
   "cell_type": "code",
   "execution_count": 41,
   "metadata": {},
   "outputs": [
    {
     "data": {
      "image/png": "[encoded data removed]",
      "text/plain": [
       "<Figure size 800x400 with 1 Axes>"
      ]
     },
     "metadata": {},
     "output_type": "display_data"
    }
   ],
   "source": [
    "plt.figure(figsize=(8, 4))\n",
    "plt.plot(range(1, num_epochs+1), train_losses, label='Training Loss')\n",
    "plt.plot(range(1, num_epochs+1), dev_losses, label='Validation Loss')\n",
    "plt.xlabel('Epochs')\n",
    "plt.ylabel('Loss')\n",
    "plt.title('Training and Validation Loss')\n",
    "plt.legend()\n",
    "plt.grid(True)\n",
    "plt.show()"
   ]
  },
  {
   "cell_type": "code",
   "execution_count": 42,
   "metadata": {},
   "outputs": [
    {
     "name": "stderr",
     "output_type": "stream",
     "text": [
      "Eval Minibatch: 100%|██████████| 332/332 [00:22<00:00, 14.94it/s]\n"
     ]
    }
   ],
   "source": [
    "model.eval()\n",
    "predictions = []\n",
    "true_labels = []\n",
    "\n",
    "with torch.no_grad():\n",
    "    for batch in tqdm(dev_loader, desc=f\"Eval Minibatch\"):\n",
    "        input_ids, attention_mask, labels = batch\n",
    "        input_ids.to(device)\n",
    "        attention_mask.to(device)\n",
    "        labels.to(device)\n",
    "        outputs = model(input_ids, attention_mask=attention_mask)\n",
    "        predictions.append(np.argmax(outputs.logits.to('cpu').numpy(), axis=1))\n",
    "        true_labels.extend(labels.cpu().numpy())"
   ]
  },
  {
   "cell_type": "code",
   "execution_count": 43,
   "metadata": {},
   "outputs": [],
   "source": [
    "predictions = np.concatenate(predictions, axis=0)"
   ]
  },
  {
   "cell_type": "code",
   "execution_count": 44,
   "metadata": {},
   "outputs": [
    {
     "data": {
      "text/plain": [
       "array([0, 4, 6, ..., 6, 4, 2])"
      ]
     },
     "execution_count": 44,
     "metadata": {},
     "output_type": "execute_result"
    }
   ],
   "source": [
    "np.array(true_labels)"
   ]
  },
  {
   "cell_type": "code",
   "execution_count": 45,
   "metadata": {},
   "outputs": [
    {
     "data": {
      "text/plain": [
       "array([4, 4, 4, ..., 4, 4, 6])"
      ]
     },
     "execution_count": 45,
     "metadata": {},
     "output_type": "execute_result"
    }
   ],
   "source": [
    "predictions"
   ]
  },
  {
   "cell_type": "code",
   "execution_count": 49,
   "metadata": {},
   "outputs": [],
   "source": [
    "accuracy = accuracy_score(true_labels, predictions)\n",
    "f1 = f1_score(true_labels, predictions, average='weighted')\n",
    "precision = precision_score(true_labels, predictions, average='weighted')\n",
    "recall = recall_score(true_labels, predictions, average='weighted')"
   ]
  },
  {
   "cell_type": "code",
   "execution_count": 47,
   "metadata": {},
   "outputs": [
    {
     "name": "stdout",
     "output_type": "stream",
     "text": [
      "              precision    recall  f1-score   support\n",
      "\n",
      "       anger       0.45      0.25      0.32       294\n",
      "     disgust       0.37      0.07      0.12        96\n",
      "        fear       0.25      0.14      0.18        90\n",
      "         joy       0.53      0.49      0.51       485\n",
      "     neutral       0.63      0.71      0.67      1132\n",
      "     sadness       0.39      0.42      0.40       198\n",
      "    surprise       0.51      0.70      0.59       359\n",
      "\n",
      "    accuracy                           0.55      2654\n",
      "   macro avg       0.45      0.40      0.40      2654\n",
      "weighted avg       0.54      0.55      0.54      2654\n",
      "\n"
     ]
    }
   ],
   "source": [
    "print(classification_report(true_labels, predictions, target_names=label_encoder.classes_))"
   ]
  },
  {
   "cell_type": "code",
   "execution_count": 50,
   "metadata": {},
   "outputs": [
    {
     "name": "stdout",
     "output_type": "stream",
     "text": [
      "Accuracy: 0.5535041446872645\n",
      "Precision: 0.5372222458617016\n",
      "Recall: 0.5535041446872645\n",
      "F1 Score: 0.5353365847232632\n"
     ]
    }
   ],
   "source": [
    "print(f'Accuracy: {accuracy}')\n",
    "print(f'Precision: {precision}')\n",
    "print(f'Recall: {recall}')\n",
    "print(f'F1 Score: {f1}')"
   ]
  }
 ],
 "metadata": {
  "kernelspec": {
   "display_name": "venv_ml",
   "language": "python",
   "name": "python3"
  },
  "language_info": {
   "codemirror_mode": {
    "name": "ipython",
    "version": 3
   },
   "file_extension": ".py",
   "mimetype": "text/x-python",
   "name": "python",
   "nbconvert_exporter": "python",
   "pygments_lexer": "ipython3",
   "version": "3.10.13"
  }
 },
 "nbformat": 4,
 "nbformat_minor": 2
}
