{
 "cells": [
  {
   "cell_type": "code",
   "execution_count": 1,
   "metadata": {},
   "outputs": [
    {
     "name": "stderr",
     "output_type": "stream",
     "text": [
      "/home/nsl/gpu_env_pip/lib64/python3.10/site-packages/tqdm/auto.py:21: TqdmWarning: IProgress not found. Please update jupyter and ipywidgets. See https://ipywidgets.readthedocs.io/en/stable/user_install.html\n",
      "  from .autonotebook import tqdm as notebook_tqdm\n"
     ]
    }
   ],
   "source": [
    "import pandas as pd\n",
    "import numpy as np\n",
    "import torch\n",
    "from torch.utils.data import DataLoader, TensorDataset\n",
    "from transformers import BertTokenizer, BertConfig, BertForSequenceClassification\n",
    "from sklearn.metrics import accuracy_score, f1_score, precision_score, recall_score, classification_report\n",
    "from sklearn.model_selection import train_test_split\n",
    "from sklearn.preprocessing import LabelEncoder\n",
    "import wandb\n",
    "import pickle\n",
    "from tqdm import tqdm\n",
    "import nlp_utils as nu\n",
    "import matplotlib.pyplot as plt\n",
    "import string"
   ]
  },
  {
   "cell_type": "code",
   "execution_count": 2,
   "metadata": {},
   "outputs": [
    {
     "name": "stdout",
     "output_type": "stream",
     "text": [
      "PyTorch version: 2.2.2+cu121\n"
     ]
    }
   ],
   "source": [
    "print(\"PyTorch version:\", torch.__version__)"
   ]
  },
  {
   "cell_type": "code",
   "execution_count": 3,
   "metadata": {},
   "outputs": [
    {
     "data": {
      "text/plain": [
       "device(type='cuda')"
      ]
     },
     "execution_count": 3,
     "metadata": {},
     "output_type": "execute_result"
    }
   ],
   "source": [
    "device = torch.device('cuda' if torch.cuda.is_available() else 'cpu')\n",
    "device"
   ]
  },
  {
   "cell_type": "code",
   "execution_count": 4,
   "metadata": {},
   "outputs": [
    {
     "name": "stderr",
     "output_type": "stream",
     "text": [
      "Failed to detect the name of this notebook, you can set it manually with the WANDB_NOTEBOOK_NAME environment variable to enable code saving.\n"
     ]
    },
    {
     "name": "stderr",
     "output_type": "stream",
     "text": [
      "\u001b[34m\u001b[1mwandb\u001b[0m: Currently logged in as: \u001b[33msachinsharma\u001b[0m (\u001b[33miiitd-sachin\u001b[0m). Use \u001b[1m`wandb login --relogin`\u001b[0m to force relogin\n"
     ]
    },
    {
     "data": {
      "text/plain": [
       "True"
      ]
     },
     "execution_count": 4,
     "metadata": {},
     "output_type": "execute_result"
    }
   ],
   "source": [
    "wandb.login()"
   ]
  },
  {
   "cell_type": "code",
   "execution_count": 5,
   "metadata": {},
   "outputs": [],
   "source": [
    "train_data_path = '../data/Subtask_1_train.json'\n",
    "test_data_path = '../data/Subtask_1_test.json'\n",
    "pickle_save_path = '../data/pickle/'\n",
    "model_save_path = '../models/'"
   ]
  },
  {
   "cell_type": "code",
   "execution_count": 6,
   "metadata": {},
   "outputs": [],
   "source": [
    "dataset = pd.read_json(train_data_path)\n",
    "# train_df"
   ]
  },
  {
   "cell_type": "code",
   "execution_count": 7,
   "metadata": {},
   "outputs": [
    {
     "data": {
      "text/plain": [
       "[{'utterance_ID': 1,\n",
       "  'text': 'Alright , so I am back in high school , I am standing in the middle of the cafeteria , and I realize I am totally naked .',\n",
       "  'speaker': 'Chandler',\n",
       "  'emotion': 'neutral'},\n",
       " {'utterance_ID': 2,\n",
       "  'text': 'Oh , yeah . Had that dream .',\n",
       "  'speaker': 'All',\n",
       "  'emotion': 'neutral'},\n",
       " {'utterance_ID': 3,\n",
       "  'text': 'Then I look down , and I realize there is a phone ... there .',\n",
       "  'speaker': 'Chandler',\n",
       "  'emotion': 'surprise'},\n",
       " {'utterance_ID': 4,\n",
       "  'text': 'Instead of ... ?',\n",
       "  'speaker': 'Joey',\n",
       "  'emotion': 'surprise'},\n",
       " {'utterance_ID': 5,\n",
       "  'text': 'That is right .',\n",
       "  'speaker': 'Chandler',\n",
       "  'emotion': 'anger'},\n",
       " {'utterance_ID': 6,\n",
       "  'text': 'Never had that dream .',\n",
       "  'speaker': 'Joey',\n",
       "  'emotion': 'neutral'},\n",
       " {'utterance_ID': 7,\n",
       "  'text': 'No .',\n",
       "  'speaker': 'Phoebe',\n",
       "  'emotion': 'neutral'},\n",
       " {'utterance_ID': 8,\n",
       "  'text': 'All of a sudden , the phone starts to ring .',\n",
       "  'speaker': 'Chandler',\n",
       "  'emotion': 'neutral'}]"
      ]
     },
     "execution_count": 7,
     "metadata": {},
     "output_type": "execute_result"
    }
   ],
   "source": [
    "conversations_df = pd.read_json(train_data_path)['conversation']\n",
    "conversations_df[0]"
   ]
  },
  {
   "cell_type": "code",
   "execution_count": 8,
   "metadata": {},
   "outputs": [
    {
     "data": {
      "text/plain": [
       "{'anger', 'disgust', 'fear', 'joy', 'neutral', 'sadness', 'surprise'}"
      ]
     },
     "execution_count": 8,
     "metadata": {},
     "output_type": "execute_result"
    }
   ],
   "source": [
    "unique_labels = set()\n",
    "unique_speakers = set()\n",
    "\n",
    "for conv in conversations_df:\n",
    "    for utterance in conv:\n",
    "        unique_labels.add(utterance['emotion'])\n",
    "        unique_speakers.add(utterance['speaker'])\n",
    "unique_labels"
   ]
  },
  {
   "cell_type": "code",
   "execution_count": 10,
   "metadata": {},
   "outputs": [],
   "source": [
    "label_encoder = LabelEncoder()\n",
    "label_encoder = label_encoder.fit(list(unique_labels))\n",
    "\n",
    "label_dict_save_path = pickle_save_path + \"label_dict.pkl\"\n",
    "labels_dict = {x:label_encoder.transform([x])[0] for x in label_encoder.classes_}\n",
    "pickle.dump(labels_dict, open(label_dict_save_path, \"wb\"))"
   ]
  },
  {
   "cell_type": "code",
   "execution_count": 11,
   "metadata": {},
   "outputs": [],
   "source": [
    "train_conv_df, dev_conv_df = train_test_split(conversations_df, test_size=0.2, random_state=42)"
   ]
  },
  {
   "cell_type": "code",
   "execution_count": 12,
   "metadata": {},
   "outputs": [],
   "source": [
    "train_conversations = []\n",
    "dev_conversations = []\n",
    "train_conv_emotions = []\n",
    "dev_conv_emotions = []\n",
    "\n",
    "train_utterances = []\n",
    "train_emotions = []\n",
    "train_speakers = []\n",
    "\n",
    "dev_utterances = []\n",
    "dev_emotions = []\n",
    "dev_speakers = []\n",
    "\n",
    "for conv in train_conv_df:\n",
    "    dialog = []\n",
    "    dialog_emotions = []\n",
    "    for sentence in conv:\n",
    "        speaker = sentence['speaker']\n",
    "        utterance = f'{speaker}: ' + nu.preprocess_text(sentence['text'])\n",
    "        emotion = sentence['emotion']\n",
    "        train_utterances.append(utterance)\n",
    "        dialog.append(utterance)\n",
    "        train_speakers.append(speaker)\n",
    "        train_emotions.append(sentence['emotion'])\n",
    "        dialog_emotions.append(sentence['emotion'])\n",
    "    train_conversations.append(dialog)\n",
    "    train_conv_emotions.append(dialog_emotions)\n",
    "\n",
    "for conv in dev_conv_df:\n",
    "    dialog = []\n",
    "    dialog_emotions = []\n",
    "    for sentence in conv:\n",
    "        speaker = sentence['speaker']\n",
    "        utterance = f'{speaker}: ' + nu.preprocess_text(sentence['text'])\n",
    "        emotion = sentence['emotion']\n",
    "        dev_utterances.append(utterance)\n",
    "        dialog.append(utterance)\n",
    "        dev_speakers.append(speaker)\n",
    "        dev_emotions.append(sentence['emotion'])\n",
    "        dialog_emotions.append(sentence['emotion'])\n",
    "    dev_conversations.append(dialog)\n",
    "    dev_conv_emotions.append(dialog_emotions)\n",
    "\n",
    "train_emotions = label_encoder.transform(train_emotions)\n",
    "dev_emotions = label_encoder.transform(dev_emotions)\n",
    "\n",
    "train_conv_emotions = np.array([label_encoder.transform(x) for x in train_conv_emotions], dtype='object')\n",
    "dev_conv_emotions = np.array([label_encoder.transform(x) for x in dev_conv_emotions], dtype='object')"
   ]
  },
  {
   "cell_type": "code",
   "execution_count": 13,
   "metadata": {},
   "outputs": [],
   "source": [
    "def encode_conversations(conv, tokenizer, max_length=128):\n",
    "    conv_input_ids = []\n",
    "    conv_attention_masks = []\n",
    "\n",
    "    for utterances in tqdm(conv, total=len(conv), desc=\"Encoding conversations\"):\n",
    "        input_ids = []\n",
    "        attention_masks = []\n",
    "        for sentence in utterances:\n",
    "            encoded = tokenizer.encode_plus(sentence,\n",
    "                                    add_special_tokens=True,\n",
    "                                    max_length=max_length,\n",
    "                                    padding='max_length',\n",
    "                                    truncation=True,\n",
    "                                    return_attention_mask=True,\n",
    "                                    return_tensors='pt')\n",
    "            input_ids.append(encoded['input_ids'])\n",
    "            attention_masks.append(encoded['attention_mask'])\n",
    "\n",
    "        input_ids = torch.cat(input_ids, dim=0)\n",
    "        attention_masks = torch.cat(attention_masks, dim=0)\n",
    "        conv_input_ids.append(input_ids)\n",
    "        conv_attention_masks.append(attention_masks)\n",
    "\n",
    "    return {'input_ids': np.array(conv_input_ids, dtype='object'), 'attention_mask': np.array(conv_attention_masks, dtype='object')}"
   ]
  },
  {
   "cell_type": "code",
   "execution_count": 14,
   "metadata": {},
   "outputs": [],
   "source": [
    "tokenizer = BertTokenizer.from_pretrained('bert-base-uncased')"
   ]
  },
  {
   "cell_type": "code",
   "execution_count": 15,
   "metadata": {},
   "outputs": [
    {
     "name": "stderr",
     "output_type": "stream",
     "text": [
      "Encoding conversations: 100%|██████████| 1099/1099 [00:04<00:00, 244.57it/s]\n",
      "Encoding conversations: 100%|██████████| 275/275 [00:01<00:00, 258.41it/s]\n"
     ]
    }
   ],
   "source": [
    "train_encodings = encode_conversations(train_conversations, tokenizer)\n",
    "dev_encodings = encode_conversations(dev_conversations, tokenizer)"
   ]
  },
  {
   "cell_type": "code",
   "execution_count": 16,
   "metadata": {},
   "outputs": [
    {
     "data": {
      "text/plain": [
       "(1099,)"
      ]
     },
     "execution_count": 16,
     "metadata": {},
     "output_type": "execute_result"
    }
   ],
   "source": [
    "X_train_input_ids = train_encodings['input_ids']\n",
    "X_train_attention_masks = train_encodings['attention_mask']\n",
    "\n",
    "X_dev_input_ids = dev_encodings['input_ids']\n",
    "X_dev_attention_masks = dev_encodings['attention_mask']\n",
    "\n",
    "X_train_input_ids.shape\n",
    "# X_dev_input_ids.shape"
   ]
  },
  {
   "cell_type": "code",
   "execution_count": 17,
   "metadata": {},
   "outputs": [],
   "source": [
    "torch.save(X_train_input_ids, pickle_save_path + 'X_train_input_ids.pt')\n",
    "torch.save(X_train_attention_masks, pickle_save_path + 'X_train_attention_masks.pt')\n",
    "torch.save(train_conv_emotions, pickle_save_path + 'train_labels_2d.pt')\n",
    "\n",
    "torch.save(X_dev_input_ids, pickle_save_path + 'X_dev_input_ids.pt')\n",
    "torch.save(X_dev_attention_masks, pickle_save_path + 'X_dev_attention_masks.pt')\n",
    "torch.save(dev_conv_emotions, pickle_save_path + 'dev_labels_2d.pt')"
   ]
  },
  {
   "cell_type": "code",
   "execution_count": 18,
   "metadata": {},
   "outputs": [],
   "source": [
    "X_train_input_ids = torch.load(pickle_save_path + 'X_train_input_ids.pt')\n",
    "X_train_attention_masks = torch.load(pickle_save_path + 'X_train_attention_masks.pt')\n",
    "train_labels = torch.load(pickle_save_path + 'train_labels_2d.pt')\n",
    "\n",
    "X_dev_input_ids = torch.load(pickle_save_path + 'X_dev_input_ids.pt')\n",
    "X_dev_attention_masks = torch.load(pickle_save_path + 'X_dev_attention_masks.pt')\n",
    "dev_labels = torch.load(pickle_save_path + 'dev_labels_2d.pt')"
   ]
  },
  {
   "cell_type": "code",
   "execution_count": 19,
   "metadata": {},
   "outputs": [
    {
     "name": "stderr",
     "output_type": "stream",
     "text": [
      "Some weights of BertForSequenceClassification were not initialized from the model checkpoint at bert-base-uncased and are newly initialized: ['classifier.bias', 'classifier.weight']\n",
      "You should probably TRAIN this model on a down-stream task to be able to use it for predictions and inference.\n"
     ]
    },
    {
     "data": {
      "text/plain": [
       "BertForSequenceClassification(\n",
       "  (bert): BertModel(\n",
       "    (embeddings): BertEmbeddings(\n",
       "      (word_embeddings): Embedding(30522, 768, padding_idx=0)\n",
       "      (position_embeddings): Embedding(512, 768)\n",
       "      (token_type_embeddings): Embedding(2, 768)\n",
       "      (LayerNorm): LayerNorm((768,), eps=1e-12, elementwise_affine=True)\n",
       "      (dropout): Dropout(p=0.1, inplace=False)\n",
       "    )\n",
       "    (encoder): BertEncoder(\n",
       "      (layer): ModuleList(\n",
       "        (0-11): 12 x BertLayer(\n",
       "          (attention): BertAttention(\n",
       "            (self): BertSelfAttention(\n",
       "              (query): Linear(in_features=768, out_features=768, bias=True)\n",
       "              (key): Linear(in_features=768, out_features=768, bias=True)\n",
       "              (value): Linear(in_features=768, out_features=768, bias=True)\n",
       "              (dropout): Dropout(p=0.1, inplace=False)\n",
       "            )\n",
       "            (output): BertSelfOutput(\n",
       "              (dense): Linear(in_features=768, out_features=768, bias=True)\n",
       "              (LayerNorm): LayerNorm((768,), eps=1e-12, elementwise_affine=True)\n",
       "              (dropout): Dropout(p=0.1, inplace=False)\n",
       "            )\n",
       "          )\n",
       "          (intermediate): BertIntermediate(\n",
       "            (dense): Linear(in_features=768, out_features=3072, bias=True)\n",
       "            (intermediate_act_fn): GELUActivation()\n",
       "          )\n",
       "          (output): BertOutput(\n",
       "            (dense): Linear(in_features=3072, out_features=768, bias=True)\n",
       "            (LayerNorm): LayerNorm((768,), eps=1e-12, elementwise_affine=True)\n",
       "            (dropout): Dropout(p=0.1, inplace=False)\n",
       "          )\n",
       "        )\n",
       "      )\n",
       "    )\n",
       "    (pooler): BertPooler(\n",
       "      (dense): Linear(in_features=768, out_features=768, bias=True)\n",
       "      (activation): Tanh()\n",
       "    )\n",
       "  )\n",
       "  (dropout): Dropout(p=0.1, inplace=False)\n",
       "  (classifier): Linear(in_features=768, out_features=7, bias=True)\n",
       ")"
      ]
     },
     "execution_count": 19,
     "metadata": {},
     "output_type": "execute_result"
    }
   ],
   "source": [
    "config = BertConfig.from_pretrained('bert-base-uncased', num_labels=len(label_encoder.classes_))\n",
    "model = BertForSequenceClassification.from_pretrained('bert-base-uncased', config=config)\n",
    "model.to(device)"
   ]
  },
  {
   "cell_type": "code",
   "execution_count": 20,
   "metadata": {},
   "outputs": [],
   "source": [
    "optimizer = torch.optim.Adam(model.parameters(), lr=1e-5)\n",
    "loss_fn = torch.nn.CrossEntropyLoss()"
   ]
  },
  {
   "cell_type": "code",
   "execution_count": 21,
   "metadata": {},
   "outputs": [],
   "source": [
    "def train_step(model, input_ids, attention_mask, labels):\n",
    "    model.train()\n",
    "    optimizer.zero_grad()\n",
    "    predictions = model(input_ids, attention_mask=attention_mask, labels=labels)\n",
    "    loss = predictions[0]\n",
    "    loss.backward()\n",
    "    optimizer.step()\n",
    "    return loss.item()"
   ]
  },
  {
   "cell_type": "code",
   "execution_count": 22,
   "metadata": {},
   "outputs": [
    {
     "data": {
      "text/html": [
       "Tracking run with wandb version 0.16.6"
      ],
      "text/plain": [
       "<IPython.core.display.HTML object>"
      ]
     },
     "metadata": {},
     "output_type": "display_data"
    },
    {
     "data": {
      "text/html": [
       "Run data is saved locally in <code>/home/nsl/nlp/project/src/wandb/run-20240423_013130-pf1isytl</code>"
      ],
      "text/plain": [
       "<IPython.core.display.HTML object>"
      ]
     },
     "metadata": {},
     "output_type": "display_data"
    },
    {
     "data": {
      "text/html": [
       "Syncing run <strong><a href='https://wandb.ai/iiitd-sachin/NLP_Project/runs/pf1isytl' target=\"_blank\">Bert-erc-no_context-run1</a></strong> to <a href='https://wandb.ai/iiitd-sachin/NLP_Project' target=\"_blank\">Weights & Biases</a> (<a href='https://wandb.me/run' target=\"_blank\">docs</a>)<br/>"
      ],
      "text/plain": [
       "<IPython.core.display.HTML object>"
      ]
     },
     "metadata": {},
     "output_type": "display_data"
    },
    {
     "data": {
      "text/html": [
       " View project at <a href='https://wandb.ai/iiitd-sachin/NLP_Project' target=\"_blank\">https://wandb.ai/iiitd-sachin/NLP_Project</a>"
      ],
      "text/plain": [
       "<IPython.core.display.HTML object>"
      ]
     },
     "metadata": {},
     "output_type": "display_data"
    },
    {
     "data": {
      "text/html": [
       " View run at <a href='https://wandb.ai/iiitd-sachin/NLP_Project/runs/pf1isytl' target=\"_blank\">https://wandb.ai/iiitd-sachin/NLP_Project/runs/pf1isytl</a>"
      ],
      "text/plain": [
       "<IPython.core.display.HTML object>"
      ]
     },
     "metadata": {},
     "output_type": "display_data"
    },
    {
     "name": "stderr",
     "output_type": "stream",
     "text": [
      "Epoch 1: 100%|██████████| 1099/1099 [01:30<00:00, 12.13it/s]\n"
     ]
    },
    {
     "name": "stdout",
     "output_type": "stream",
     "text": [
      "Training Loss: 1.4006328778824446, Validation Loss: 1.27698785868558\n"
     ]
    },
    {
     "name": "stderr",
     "output_type": "stream",
     "text": [
      "Epoch 2: 100%|██████████| 1099/1099 [01:30<00:00, 12.09it/s]\n"
     ]
    },
    {
     "name": "stdout",
     "output_type": "stream",
     "text": [
      "Training Loss: 1.1389070726097226, Validation Loss: 1.281329187317328\n"
     ]
    },
    {
     "name": "stderr",
     "output_type": "stream",
     "text": [
      "Epoch 3: 100%|██████████| 1099/1099 [01:28<00:00, 12.49it/s]\n"
     ]
    },
    {
     "name": "stdout",
     "output_type": "stream",
     "text": [
      "Training Loss: 0.9392065886980951, Validation Loss: 1.3668078440563245\n"
     ]
    },
    {
     "data": {
      "text/html": [
       "<style>\n",
       "    table.wandb td:nth-child(1) { padding: 0 10px; text-align: left ; width: auto;} td:nth-child(2) {text-align: left ; width: 100%}\n",
       "    .wandb-row { display: flex; flex-direction: row; flex-wrap: wrap; justify-content: flex-start; width: 100% }\n",
       "    .wandb-col { display: flex; flex-direction: column; flex-basis: 100%; flex: 1; padding: 10px; }\n",
       "    </style>\n",
       "<div class=\"wandb-row\"><div class=\"wandb-col\"><h3>Run history:</h3><br/><table class=\"wandb\"><tr><td>train_loss</td><td>█▄▁</td></tr><tr><td>val_loss</td><td>▁▁█</td></tr></table><br/></div><div class=\"wandb-col\"><h3>Run summary:</h3><br/><table class=\"wandb\"><tr><td>train_loss</td><td>0.93921</td></tr><tr><td>val_loss</td><td>1.36681</td></tr></table><br/></div></div>"
      ],
      "text/plain": [
       "<IPython.core.display.HTML object>"
      ]
     },
     "metadata": {},
     "output_type": "display_data"
    },
    {
     "data": {
      "text/html": [
       " View run <strong style=\"color:#cdcd00\">Bert-erc-no_context-run1</strong> at: <a href='https://wandb.ai/iiitd-sachin/NLP_Project/runs/pf1isytl' target=\"_blank\">https://wandb.ai/iiitd-sachin/NLP_Project/runs/pf1isytl</a><br/> View project at: <a href='https://wandb.ai/iiitd-sachin/NLP_Project' target=\"_blank\">https://wandb.ai/iiitd-sachin/NLP_Project</a><br/>Synced 5 W&B file(s), 0 media file(s), 0 artifact file(s) and 0 other file(s)"
      ],
      "text/plain": [
       "<IPython.core.display.HTML object>"
      ]
     },
     "metadata": {},
     "output_type": "display_data"
    },
    {
     "data": {
      "text/html": [
       "Find logs at: <code>./wandb/run-20240423_013130-pf1isytl/logs</code>"
      ],
      "text/plain": [
       "<IPython.core.display.HTML object>"
      ]
     },
     "metadata": {},
     "output_type": "display_data"
    }
   ],
   "source": [
    "wandb.init(\n",
    "    project=\"NLP_Project\",\n",
    "    group='ERC',\n",
    "    name='Bert-erc-no_context-run1',\n",
    "\n",
    "    config={\n",
    "        \"architecture\": \"bert\",\n",
    "        'context': 'not_concatenated',\n",
    "        'input shape': 'conversation',\n",
    "        \"epochs\": 3,\n",
    "        \"learning_rate\": 1e-5\n",
    "    }\n",
    ")\n",
    "config = wandb.config\n",
    "\n",
    "num_epochs = config.epochs\n",
    "train_losses = []\n",
    "dev_losses = []\n",
    "\n",
    "for epoch in range(num_epochs):\n",
    "    epoch_train_loss = 0\n",
    "\n",
    "    for utterance, mask, labels in tqdm(zip(X_train_input_ids, X_train_attention_masks, train_labels), total=len(train_conversations), desc=f\"Epoch {epoch+1}\"):\n",
    "        input_ids = utterance.to(device)\n",
    "        mask = mask.to(device)\n",
    "        labels = torch.tensor(labels, dtype=torch.long).to(device)\n",
    "        loss = train_step(model, input_ids, mask, labels)\n",
    "        epoch_train_loss += loss\n",
    "    epoch_train_loss /= len(train_conversations)\n",
    "    train_losses.append(epoch_train_loss)\n",
    "\n",
    "    # Validation\n",
    "    model.eval()\n",
    "    total_dev_loss = 0\n",
    "    with torch.no_grad():\n",
    "        for utterance, mask, labels in zip(X_dev_input_ids, X_dev_attention_masks, dev_labels):\n",
    "            input_ids = utterance.to(device)\n",
    "            mask = mask.to(device)\n",
    "            labels = torch.tensor(labels, dtype=torch.long).to(device)\n",
    "            predictions = model(input_ids, attention_mask=mask, labels=labels)\n",
    "            dev_loss = predictions[0]\n",
    "            total_dev_loss += dev_loss.item()\n",
    "    avg_dev_loss = total_dev_loss / len(dev_conversations)\n",
    "    dev_losses.append(avg_dev_loss)\n",
    "\n",
    "    wandb.log({'train_loss': epoch_train_loss, 'val_loss': avg_dev_loss})\n",
    "    print(\n",
    "        f'Training Loss: {epoch_train_loss}, Validation Loss: {avg_dev_loss}')\n",
    "\n",
    "wandb.finish()"
   ]
  },
  {
   "cell_type": "code",
   "execution_count": 23,
   "metadata": {},
   "outputs": [],
   "source": [
    "model.save_pretrained(model_save_path + 'erc-bert-m2')\n",
    "# tokenizer.save_pretrained(model_save_path)"
   ]
  },
  {
   "cell_type": "code",
   "execution_count": 24,
   "metadata": {},
   "outputs": [
    {
     "data": {
      "image/png": "[encoded data removed]",
      "text/plain": [
       "<Figure size 800x400 with 1 Axes>"
      ]
     },
     "metadata": {},
     "output_type": "display_data"
    }
   ],
   "source": [
    "plt.figure(figsize=(8, 4))\n",
    "plt.plot(range(1, num_epochs+1), train_losses, label='Training Loss')\n",
    "plt.plot(range(1, num_epochs+1), dev_losses, label='Validation Loss')\n",
    "plt.xlabel('Epochs')\n",
    "plt.ylabel('Loss')\n",
    "plt.title('Training and Validation Loss')\n",
    "plt.legend()\n",
    "plt.grid(True)\n",
    "plt.show()"
   ]
  },
  {
   "cell_type": "code",
   "execution_count": 25,
   "metadata": {},
   "outputs": [],
   "source": [
    "model.eval()\n",
    "predictions = []\n",
    "true_labels = []\n",
    "\n",
    "with torch.no_grad():\n",
    "    for utterance, mask, labels in zip(X_dev_input_ids, X_dev_attention_masks, dev_labels):\n",
    "        input_ids = utterance.to(device)\n",
    "        mask = mask.to(device)\n",
    "        labels = torch.tensor(labels, dtype=torch.long).to(device)\n",
    "        outputs = model(input_ids, attention_mask=mask, labels=labels)\n",
    "        predictions.append(np.argmax(outputs.logits.to('cpu').numpy(), axis=1))\n",
    "        true_labels.extend(labels.cpu().numpy())"
   ]
  },
  {
   "cell_type": "code",
   "execution_count": 26,
   "metadata": {},
   "outputs": [],
   "source": [
    "predictions = np.concatenate(predictions, axis=0)"
   ]
  },
  {
   "cell_type": "code",
   "execution_count": 27,
   "metadata": {},
   "outputs": [
    {
     "data": {
      "text/plain": [
       "array([3, 4, 3, ..., 3, 3, 1])"
      ]
     },
     "execution_count": 27,
     "metadata": {},
     "output_type": "execute_result"
    }
   ],
   "source": [
    "np.array(true_labels)"
   ]
  },
  {
   "cell_type": "code",
   "execution_count": 28,
   "metadata": {},
   "outputs": [
    {
     "data": {
      "text/plain": [
       "array([3, 4, 4, ..., 4, 4, 4])"
      ]
     },
     "execution_count": 28,
     "metadata": {},
     "output_type": "execute_result"
    }
   ],
   "source": [
    "predictions"
   ]
  },
  {
   "cell_type": "code",
   "execution_count": 29,
   "metadata": {},
   "outputs": [],
   "source": [
    "accuracy = accuracy_score(true_labels, predictions)\n",
    "f1 = f1_score(true_labels, predictions, average='weighted')\n",
    "precision = precision_score(true_labels, predictions, average='weighted')\n",
    "recall = recall_score(true_labels, predictions, average='weighted')"
   ]
  },
  {
   "cell_type": "code",
   "execution_count": 30,
   "metadata": {},
   "outputs": [
    {
     "name": "stdout",
     "output_type": "stream",
     "text": [
      "              precision    recall  f1-score   support\n",
      "\n",
      "       anger       0.39      0.34      0.36       294\n",
      "     disgust       0.33      0.07      0.12        96\n",
      "        fear       0.07      0.02      0.03        90\n",
      "         joy       0.52      0.49      0.50       485\n",
      "     neutral       0.63      0.70      0.66      1132\n",
      "     sadness       0.28      0.42      0.34       198\n",
      "    surprise       0.58      0.55      0.56       359\n",
      "\n",
      "    accuracy                           0.53      2654\n",
      "   macro avg       0.40      0.37      0.37      2654\n",
      "weighted avg       0.52      0.53      0.52      2654\n",
      "\n"
     ]
    }
   ],
   "source": [
    "print(classification_report(true_labels, predictions, target_names=label_encoder.classes_))"
   ]
  },
  {
   "cell_type": "code",
   "execution_count": 31,
   "metadata": {},
   "outputs": [
    {
     "name": "stdout",
     "output_type": "stream",
     "text": [
      "Accuracy: 0.53353428786737\n",
      "Precision: 0.5200249251666161\n",
      "Recall: 0.53353428786737\n",
      "F1 Score: 0.5209382264091214\n"
     ]
    }
   ],
   "source": [
    "print(f'Accuracy: {accuracy}')\n",
    "print(f'Precision: {precision}')\n",
    "print(f'Recall: {recall}')\n",
    "print(f'F1 Score: {f1}')"
   ]
  }
 ],
 "metadata": {
  "kernelspec": {
   "display_name": "venv_ml",
   "language": "python",
   "name": "python3"
  },
  "language_info": {
   "codemirror_mode": {
    "name": "ipython",
    "version": 3
   },
   "file_extension": ".py",
   "mimetype": "text/x-python",
   "name": "python",
   "nbconvert_exporter": "python",
   "pygments_lexer": "ipython3",
   "version": "3.10.13"
  }
 },
 "nbformat": 4,
 "nbformat_minor": 2
}
